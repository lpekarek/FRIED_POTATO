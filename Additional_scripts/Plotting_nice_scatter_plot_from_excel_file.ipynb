{
 "cells": [
  {
   "cell_type": "code",
   "execution_count": 1,
   "metadata": {},
   "outputs": [],
   "source": [
    "import pandas as pd\n",
    "import seaborn as sns\n",
    "import matplotlib.pyplot as plt\n",
    "import os\n",
    "import numpy as np"
   ]
  },
  {
   "cell_type": "code",
   "execution_count": 2,
   "metadata": {},
   "outputs": [],
   "source": [
    "# Define specific formatting settings\n",
    "color_hex1 = '#CC0078'  # Histogram color\n",
    "color_hex2 = '#667C85'  # CDF color\n",
    "font_size = 20\n",
    "plot_title = \"HOTAIR H18\"  # Example plot title\n",
    "line_thickness = 2\n",
    "\n",
    "\n",
    "\n",
    "# Specify the path to the Excel file and parameters\n",
    "file_path = \"C:/Users/lupe184g/Desktop/Postdoc/01_Projects/OT_data/Fiona/total_results_H18 fitted_final_LP_2.xlsx\"\n",
    "\n",
    "column_x = \"delta Lc, nm\"\n",
    "column_y = \"Force, pN\"\n",
    "bin_width = 2\n",
    "min_x = 5\n",
    "max_x = 40\n",
    "output_dir = \"C:/Users/lupe184g/Desktop/Postdoc/01_Projects/OT_data/Fiona\"\n",
    "\n",
    "\n"
   ]
  },
  {
   "cell_type": "code",
   "execution_count": 3,
   "metadata": {},
   "outputs": [],
   "source": [
    "def load_excel_data(file_path, column_x, column_y):\n",
    "    \"\"\"Load data from an Excel file and return the specified columns as pandas Series.\"\"\"\n",
    "    df = pd.read_excel(file_path)\n",
    "    if column_x not in df.columns or column_y not in df.columns:\n",
    "        raise ValueError(f\"One or both columns '{column_x}', '{column_y}' not found in the Excel file.\")\n",
    "    return df[column_x].dropna(), df[column_y].dropna()\n",
    "\n",
    "def format_plot(ax, title):\n",
    "    \"\"\"Apply custom formatting to plots.\"\"\"\n",
    "    ax.set_title(title, fontsize=font_size)\n",
    "    ax.spines['top'].set_linewidth(2)\n",
    "    ax.spines['right'].set_linewidth(2)\n",
    "    ax.spines['left'].set_linewidth(2)\n",
    "    ax.spines['bottom'].set_linewidth(2)\n",
    "    ax.spines['top'].set_color('white')\n",
    "    ax.spines['right'].set_color('white')\n",
    "    ax.tick_params(axis='both', which='major', labelsize=font_size, direction='in', length=6, width=2)\n",
    "\n",
    "def plot_scatter(data_x, data_y, output_dir, column_x, column_y):\n",
    "    \"\"\"Plot scatter plot and save the output.\"\"\"\n",
    "    fig, ax = plt.subplots(figsize=(8, 6), dpi=300)\n",
    "    sns.scatterplot(x=data_x, y=data_y, color=color_hex1, ax=ax)\n",
    "    ax.set_xlabel(column_x, fontsize=font_size)\n",
    "    ax.set_ylabel(column_y, fontsize=font_size)\n",
    "    format_plot(ax, plot_title + f\" - {column_x} vs {column_y}\")\n",
    "    \n",
    "    png_path = os.path.join(output_dir, f\"{plot_title}_{column_x}_vs_{column_y}_scatter.png\")\n",
    "    svg_path = os.path.join(output_dir, f\"{plot_title}_{column_x}_vs_{column_y}_scatter.svg\")\n",
    "    \n",
    "    plt.savefig(png_path)\n",
    "    plt.savefig(svg_path, format='svg')\n",
    "    plt.close()\n",
    "    print(f\"Scatter plot saved as {png_path} and {svg_path}\")"
   ]
  },
  {
   "cell_type": "code",
   "execution_count": 4,
   "metadata": {},
   "outputs": [
    {
     "name": "stdout",
     "output_type": "stream",
     "text": [
      "Scatter plot saved as C:/Users/lupe184g/Desktop/Postdoc/01_Projects/OT_data/Fiona\\HOTAIR H18_delta Lc, nm_vs_Force, pN_scatter.png and C:/Users/lupe184g/Desktop/Postdoc/01_Projects/OT_data/Fiona\\HOTAIR H18_delta Lc, nm_vs_Force, pN_scatter.svg\n"
     ]
    }
   ],
   "source": [
    "data_x, data_y = load_excel_data(file_path, column_x, column_y)\n",
    "plot_scatter(data_x, data_y, output_dir, column_x, column_y)\n"
   ]
  }
 ],
 "metadata": {
  "kernelspec": {
   "display_name": "dropfold",
   "language": "python",
   "name": "python3"
  },
  "language_info": {
   "codemirror_mode": {
    "name": "ipython",
    "version": 3
   },
   "file_extension": ".py",
   "mimetype": "text/x-python",
   "name": "python",
   "nbconvert_exporter": "python",
   "pygments_lexer": "ipython3",
   "version": "3.12.2"
  }
 },
 "nbformat": 4,
 "nbformat_minor": 2
}
